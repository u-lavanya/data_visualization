{
 "cells": [
  {
   "cell_type": "code",
   "execution_count": 2,
   "id": "db1de20f-0fb4-440c-8074-42c95cbbd164",
   "metadata": {},
   "outputs": [],
   "source": [
    "import numpy as np"
   ]
  },
  {
   "cell_type": "code",
   "execution_count": 3,
   "id": "298eb50f-a0f9-4b0b-8a7d-8c0ec1e19834",
   "metadata": {},
   "outputs": [],
   "source": [
    "#we use genfromtxt instead of importing pandas and using pd.read\n",
    "df=np.genfromtxt('normal_distribution.csv',delimiter=',')"
   ]
  },
  {
   "cell_type": "code",
   "execution_count": 4,
   "id": "f8ebeace-5eb3-4bd9-b3bc-ba1ebb91b6da",
   "metadata": {},
   "outputs": [
    {
     "data": {
      "text/plain": [
       "array([[ 99.14931546, 104.03852715, 107.43534677,  97.85230675,\n",
       "         98.74986914,  98.80833412,  96.81964892,  98.56783189],\n",
       "       [ 92.02628776,  97.10439252,  99.32066924,  97.24584816,\n",
       "         92.9267508 ,  92.65657752, 105.7197853 , 101.23162942]])"
      ]
     },
     "execution_count": 4,
     "metadata": {},
     "output_type": "execute_result"
    }
   ],
   "source": [
    "df[0:2]"
   ]
  },
  {
   "cell_type": "code",
   "execution_count": 5,
   "id": "58aef3a7-9648-4f18-80a2-1fadc2470962",
   "metadata": {},
   "outputs": [
    {
     "data": {
      "text/plain": [
       "100.16536917390624"
      ]
     },
     "execution_count": 5,
     "metadata": {},
     "output_type": "execute_result"
    }
   ],
   "source": [
    "#mean\n",
    "np.mean(df)"
   ]
  },
  {
   "cell_type": "code",
   "execution_count": 6,
   "id": "baf30205-37ad-4c06-9bc3-6d711c80982a",
   "metadata": {},
   "outputs": [
    {
     "data": {
      "text/plain": [
       "97.27899259"
      ]
     },
     "execution_count": 6,
     "metadata": {},
     "output_type": "execute_result"
    }
   ],
   "source": [
    "#mean for the second row\n",
    "np.mean(df[1])"
   ]
  },
  {
   "cell_type": "code",
   "execution_count": 7,
   "id": "0930cab9-62ec-4841-bea3-1864a0aae27d",
   "metadata": {},
   "outputs": [
    {
     "data": {
      "text/plain": [
       "99.76743510416668"
      ]
     },
     "execution_count": 7,
     "metadata": {},
     "output_type": "execute_result"
    }
   ],
   "source": [
    "#mean for the first column\n",
    "np.mean(df[:,0])"
   ]
  },
  {
   "cell_type": "code",
   "execution_count": 9,
   "id": "2594c788-0257-46bd-bf54-f1b8758109a9",
   "metadata": {},
   "outputs": [
    {
     "data": {
      "text/plain": [
       "101.84493159749998"
      ]
     },
     "execution_count": 9,
     "metadata": {},
     "output_type": "execute_result"
    }
   ],
   "source": [
    "#mean for the fourth column\n",
    "np.mean(df[:,3])"
   ]
  },
  {
   "cell_type": "code",
   "execution_count": 10,
   "id": "f83dc36d-51fc-4027-804d-728b210e0d00",
   "metadata": {},
   "outputs": [
    {
     "data": {
      "text/plain": [
       "100.18206203"
      ]
     },
     "execution_count": 10,
     "metadata": {},
     "output_type": "execute_result"
    }
   ],
   "source": [
    "#median\n",
    "np.median(df)"
   ]
  },
  {
   "cell_type": "code",
   "execution_count": 11,
   "id": "7f0b1e73-eca9-4b80-baf9-fc81b93b3bf4",
   "metadata": {},
   "outputs": [
    {
     "data": {
      "text/plain": [
       "99.18748092"
      ]
     },
     "execution_count": 11,
     "metadata": {},
     "output_type": "execute_result"
    }
   ],
   "source": [
    "#median for the last row\n",
    "np.median(df[-1])"
   ]
  },
  {
   "cell_type": "code",
   "execution_count": 13,
   "id": "3cce99ce-5af9-4856-aed1-f930378c3a30",
   "metadata": {},
   "outputs": [
    {
     "data": {
      "text/plain": [
       "23.408155574137027"
      ]
     },
     "execution_count": 13,
     "metadata": {},
     "output_type": "execute_result"
    }
   ],
   "source": [
    "#variance\n",
    "np.var(df)"
   ]
  },
  {
   "cell_type": "code",
   "execution_count": 24,
   "id": "9a65a123-2920-49a7-9ea1-212727856763",
   "metadata": {},
   "outputs": [
    {
     "data": {
      "text/plain": [
       "array([23.64757465, 29.78886109, 20.50542011, 26.03204443, 28.38853175,\n",
       "       19.09960817, 17.67291174, 16.17923204])"
      ]
     },
     "execution_count": 24,
     "metadata": {},
     "output_type": "execute_result"
    }
   ],
   "source": [
    "#axis =0  is used to get variance per column , axis=1 it would mean row\n",
    "np.var(df,axis=0)"
   ]
  },
  {
   "cell_type": "code",
   "execution_count": 25,
   "id": "07211fc9-f08f-458b-a5bd-1e8e8b8b7478",
   "metadata": {},
   "outputs": [
    {
     "data": {
      "text/plain": [
       "array([11.47831221, 19.87124806, 38.76626578, 51.82791356, 24.08117728,\n",
       "       22.86112657, 22.39746721, 16.95556067, 14.99854574, 28.70862927,\n",
       "       10.31592621, 15.62432312, 51.65273836, 21.93340236, 17.11660913,\n",
       "       22.57008154, 11.02824211,  5.01674729, 17.35648886, 11.40121072,\n",
       "       10.98051411, 19.32123956, 12.93285875, 16.47774976])"
      ]
     },
     "execution_count": 25,
     "metadata": {},
     "output_type": "execute_result"
    }
   ],
   "source": [
    "#axis=1 is used to get variance per column \n",
    "np.var(df,axis=1)"
   ]
  },
  {
   "cell_type": "code",
   "execution_count": 26,
   "id": "ff86d8f4-8bce-4153-8db2-a441eaf5785e",
   "metadata": {},
   "outputs": [
    {
     "data": {
      "text/plain": [
       "4.838197554269257"
      ]
     },
     "execution_count": 26,
     "metadata": {},
     "output_type": "execute_result"
    }
   ],
   "source": [
    "#standard deviation\n",
    "np.std(df)"
   ]
  },
  {
   "cell_type": "code",
   "execution_count": 27,
   "id": "601ab7ea-558d-47de-8339-07662d0c9011",
   "metadata": {},
   "outputs": [
    {
     "data": {
      "text/plain": [
       "4.308326898129258"
      ]
     },
     "execution_count": 27,
     "metadata": {},
     "output_type": "execute_result"
    }
   ],
   "source": [
    "#std value of values from the first 2 rows and columns\n",
    "np.std(df[:2,:2])"
   ]
  },
  {
   "cell_type": "code",
   "execution_count": 31,
   "id": "b895629a-fbfc-46a5-a819-e405d8cce738",
   "metadata": {},
   "outputs": [
    {
     "data": {
      "text/plain": [
       "3.7371052088490777"
      ]
     },
     "execution_count": 31,
     "metadata": {},
     "output_type": "execute_result"
    }
   ],
   "source": [
    "#std for first three rows and first two columns  df[row_start:row_end,column_start:column_end]\n",
    "np.std(df[:3,:2])"
   ]
  },
  {
   "cell_type": "code",
   "execution_count": 32,
   "id": "9f63d50b-7c87-43db-99f7-aee4f720c06e",
   "metadata": {},
   "outputs": [],
   "source": [
    " #indexing in numpy"
   ]
  },
  {
   "cell_type": "code",
   "execution_count": 33,
   "id": "e533f46b-1741-400a-9005-faa1c1859e81",
   "metadata": {},
   "outputs": [
    {
     "data": {
      "text/plain": [
       "array([ 99.14931546, 104.03852715, 107.43534677,  97.85230675,\n",
       "        98.74986914,  98.80833412,  96.81964892,  98.56783189])"
      ]
     },
     "execution_count": 33,
     "metadata": {},
     "output_type": "execute_result"
    }
   ],
   "source": [
    "#index a single element in outermost dimension\n",
    "df[0]"
   ]
  },
  {
   "cell_type": "code",
   "execution_count": 34,
   "id": "57efd9da-15c2-4ead-af47-2467bebf2aa6",
   "metadata": {},
   "outputs": [
    {
     "data": {
      "text/plain": [
       "array([ 94.11176915,  99.62387832, 104.51786419,  97.62787811,\n",
       "        93.97853495,  98.75108352, 106.05042487, 100.07721494])"
      ]
     },
     "execution_count": 34,
     "metadata": {},
     "output_type": "execute_result"
    }
   ],
   "source": [
    "#index in reversed order in outermost dimension\n",
    "df[-1]"
   ]
  },
  {
   "cell_type": "code",
   "execution_count": 36,
   "id": "a3f44906-4786-44b1-a66b-08e383f605c0",
   "metadata": {},
   "outputs": [
    {
     "data": {
      "text/plain": [
       "97.10439252"
      ]
     },
     "execution_count": 36,
     "metadata": {},
     "output_type": "execute_result"
    }
   ],
   "source": [
    "#index single element in the two dimensional data\n",
    "df[1,1]"
   ]
  },
  {
   "cell_type": "code",
   "execution_count": 37,
   "id": "1936f68a-fe3f-49e4-bd35-42304add016a",
   "metadata": {},
   "outputs": [
    {
     "data": {
      "text/plain": [
       "100.07721494"
      ]
     },
     "execution_count": 37,
     "metadata": {},
     "output_type": "execute_result"
    }
   ],
   "source": [
    "#index in reversed order in the two dimensional data\n",
    "df[-1,-1]"
   ]
  },
  {
   "cell_type": "code",
   "execution_count": 39,
   "id": "80bb5b1a-43b3-4273-985b-4a299c93404e",
   "metadata": {},
   "outputs": [],
   "source": [
    "#slicing"
   ]
  },
  {
   "cell_type": "code",
   "execution_count": 40,
   "id": "d85ebfb2-42ed-4a53-864c-755ca8bf70df",
   "metadata": {},
   "outputs": [
    {
     "data": {
      "text/plain": [
       "array([[ 92.02628776,  97.10439252,  99.32066924,  97.24584816,\n",
       "         92.9267508 ,  92.65657752, 105.7197853 , 101.23162942],\n",
       "       [ 95.66253664,  95.17750125,  90.93318132, 110.18889465,\n",
       "         98.80084371, 105.95297652,  98.37481387, 106.54654286]])"
      ]
     },
     "execution_count": 40,
     "metadata": {},
     "output_type": "execute_result"
    }
   ],
   "source": [
    "#row 1 and 2\n",
    "df[1:3]"
   ]
  },
  {
   "cell_type": "code",
   "execution_count": 41,
   "id": "f0531b77-cfa3-4009-b33e-3c34337bcf79",
   "metadata": {},
   "outputs": [
    {
     "data": {
      "text/plain": [
       "array([[ 96.02548256, 102.82360856, 106.47551845, 101.34745901,\n",
       "        102.45651798,  98.74767493,  97.57544275,  92.5748759 ],\n",
       "       [105.30350449,  92.87730812, 103.19258339, 104.40518318,\n",
       "        101.29326772, 100.85447132, 101.2226037 , 106.03868807],\n",
       "       [110.44484313,  93.87155456, 101.5363647 ,  97.65393524,\n",
       "         92.75048583, 101.72074646,  96.96851209, 103.29147111],\n",
       "       [101.3514185 , 100.37372248, 106.6471081 , 100.61742813,\n",
       "        105.0320535 ,  99.35999981,  98.87007532,  95.85284217]])"
      ]
     },
     "execution_count": 41,
     "metadata": {},
     "output_type": "execute_result"
    }
   ],
   "source": [
    "df[7:11]"
   ]
  },
  {
   "cell_type": "code",
   "execution_count": 42,
   "id": "46201bba-2954-4cdd-9cc1-9e3145b2dbf0",
   "metadata": {},
   "outputs": [
    {
     "data": {
      "text/plain": [
       "array([100.07721494, 106.05042487,  98.75108352,  93.97853495,\n",
       "        97.62787811, 104.51786419,  99.62387832,  94.11176915])"
      ]
     },
     "execution_count": 42,
     "metadata": {},
     "output_type": "execute_result"
    }
   ],
   "source": [
    "#last row with elements reversed\n",
    "df[-1,::-1]"
   ]
  },
  {
   "cell_type": "code",
   "execution_count": 44,
   "id": "c699572d-114d-477c-b696-4f850a002f1f",
   "metadata": {},
   "outputs": [
    {
     "data": {
      "text/plain": [
       "array([[ 96.76814836, 101.79132774,  98.29243952],\n",
       "       [106.89005002, 102.26648279,  99.94318168],\n",
       "       [ 99.80873105, 106.46476468, 100.69156231],\n",
       "       [ 96.10020311, 100.80409326,  98.61325194]])"
      ]
     },
     "execution_count": 44,
     "metadata": {},
     "output_type": "execute_result"
    }
   ],
   "source": [
    "#last 4 rows every other element upto index 6\n",
    "df[-5:-1,:6:2]"
   ]
  },
  {
   "cell_type": "code",
   "execution_count": 45,
   "id": "08c75743-92f2-49e9-a31f-df3da79aa471",
   "metadata": {},
   "outputs": [
    {
     "data": {
      "text/plain": [
       "array([[ 99.14931546, 104.03852715],\n",
       "       [ 92.02628776,  97.10439252]])"
      ]
     },
     "execution_count": 45,
     "metadata": {},
     "output_type": "execute_result"
    }
   ],
   "source": [
    "# 2x2 subset of data\n",
    "df[:2,:2]"
   ]
  },
  {
   "cell_type": "code",
   "execution_count": 50,
   "id": "0e9d1496-d583-4067-8ac4-f94583afa0ba",
   "metadata": {},
   "outputs": [
    {
     "data": {
      "text/plain": [
       "array([[ 99.14931546, 104.03852715, 107.43534677,  97.85230675,\n",
       "         98.74986914,  98.80833412],\n",
       "       [ 92.02628776,  97.10439252,  99.32066924,  97.24584816,\n",
       "         92.9267508 ,  92.65657752],\n",
       "       [ 95.66253664,  95.17750125,  90.93318132, 110.18889465,\n",
       "         98.80084371, 105.95297652],\n",
       "       [ 91.37294597, 100.96781394, 100.40118279, 113.42090475,\n",
       "        105.48508838,  91.6604946 ],\n",
       "       [101.20862522, 103.5730309 , 100.28690912, 105.85269352,\n",
       "         93.37126331, 108.57980357]])"
      ]
     },
     "execution_count": 50,
     "metadata": {},
     "output_type": "execute_result"
    }
   ],
   "source": [
    "#first 5 rows and 6 columns\n",
    "df[:5,:6]"
   ]
  },
  {
   "cell_type": "code",
   "execution_count": 52,
   "id": "fdc87d94-6fe9-41b2-bd26-140c9cf8f269",
   "metadata": {},
   "outputs": [
    {
     "data": {
      "text/plain": [
       "array([[ 97.10439252,  99.32066924,  97.24584816],\n",
       "       [ 95.17750125,  90.93318132, 110.18889465],\n",
       "       [100.96781394, 100.40118279, 113.42090475]])"
      ]
     },
     "execution_count": 52,
     "metadata": {},
     "output_type": "execute_result"
    }
   ],
   "source": [
    "#from row 1 to 3 columns 1 to 3\n",
    "df[1:4,1:4]"
   ]
  },
  {
   "cell_type": "code",
   "execution_count": 46,
   "id": "2b5efa59-a48d-46b2-9878-fe40578a5780",
   "metadata": {},
   "outputs": [],
   "source": [
    "#splitting"
   ]
  },
  {
   "cell_type": "code",
   "execution_count": null,
   "id": "1faa6045-9006-4938-885a-33dce3d35754",
   "metadata": {},
   "outputs": [],
   "source": [
    "#split vertica"
   ]
  }
 ],
 "metadata": {
  "kernelspec": {
   "display_name": "Python 3 (ipykernel)",
   "language": "python",
   "name": "python3"
  },
  "language_info": {
   "codemirror_mode": {
    "name": "ipython",
    "version": 3
   },
   "file_extension": ".py",
   "mimetype": "text/x-python",
   "name": "python",
   "nbconvert_exporter": "python",
   "pygments_lexer": "ipython3",
   "version": "3.11.7"
  }
 },
 "nbformat": 4,
 "nbformat_minor": 5
}
